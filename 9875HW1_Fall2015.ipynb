{
 "cells": [
  {
   "cell_type": "markdown",
   "metadata": {},
   "source": [
    "# MTH9875 Homework 1 \n",
    "\n",
    "Assigned: August 27, 2015.\n",
    "Due: September 10, 2015 by 6pm.\n",
    "\n",
    "Late homework **will not be accepted**."
   ]
  },
  {
   "cell_type": "markdown",
   "metadata": {},
   "source": [
    "<font color = \"red\">Homework is to be done by each student individually.  To receive full credit, you must email a completed copy of this iPython notebook to Tai-Ho Wang and Jim Gatheral by the due date and time.  All R-code must run correctly and solutions must be written up neatly in Markdown/LaTeX format.\n",
    "\n",
    "<font color=\"blue\">If you encounter problems with Markdown/LaTeX or iPython notebook, please contact your iPython notebook ambassador.\n"
   ]
  },
  {
   "cell_type": "markdown",
   "metadata": {},
   "source": [
    "## Power laws"
   ]
  },
  {
   "cell_type": "markdown",
   "metadata": {},
   "source": [
    "$$\\newcommand{\\bi}{\\begin{itemize}}\n",
    "\\newcommand{\\ei}{\\end{itemize}}\n",
    "\\newcommand{\\beq}{\\begin{equation}}\n",
    "\\newcommand{\\eeq}{\\end{equation}}\n",
    "\\newcommand{\\beas}{\\begin{eqnarray*}}\n",
    "\\newcommand{\\eeas}{\\end{eqnarray*}}\n",
    "\\newcommand{\\supp}{\\mathrm{supp}}\n",
    "\\newcommand{\\E}{\\mathbb{E} }\n",
    "\\def\\Cov{{ \\mbox{Cov} }}\n",
    "\\def\\Var{{ \\mbox{Var} }}\n",
    "\\newcommand{\\1}{\\mathbf{1} }\n",
    "\\newcommand{\\PP}{\\mathbb{P} }\n",
    "\\newcommand{\\QQ}{\\mathbb{Q} }\n",
    "\\newcommand{\\RR}{\\mathbb{R} }\n",
    "\\newcommand{\\DD}{\\mathbb{D} }\n",
    "\\newcommand{\\HH}{\\mathbb{H} }\n",
    "\\newcommand{\\spn}{\\mathrm{span} }\n",
    "\\newcommand{\\cov}{\\mathrm{cov} }\n",
    "\\newcommand{\\HS}{\\mathcal{L}_{\\mathrm{HS}} }\n",
    "\\newcommand{\\trace}{\\mathrm{trace} }\n",
    "\\newcommand{\\LL}{\\mathcal{L} }\n",
    "\\newcommand{\\s}{\\mathcal{S} }\n",
    "\\newcommand{\\ee}{\\mathcal{E} }\n",
    "\\newcommand{\\ff}{\\mathcal{F} }\n",
    "\\newcommand{\\hh}{\\mathcal{H} }\n",
    "\\newcommand{\\bb}{\\mathcal{B} }\n",
    "\\newcommand{\\dd}{\\mathcal{D} }\n",
    "\\newcommand{\\g}{\\mathcal{G} }\n",
    "\\newcommand{\\half}{\\frac{1}{2} }\n",
    "\\newcommand{\\T}{\\mathcal{T} }\n",
    "$$\n",
    "#### 1. (4 points)\n",
    "\n",
    "Let $X_i$ be independent power-law distributed random variables, so that for large $x$,\n",
    "\n",
    "$$\n",
    "\\Pr(X_i>x) \\sim \\frac{1}{x^{\\zeta_{X_i}}} \n",
    "$$\n",
    "\n",
    " Prove the following properties of the tail exponents $\\zeta_{X_i}$:\n",
    "\n",
    " (a) $$\n",
    "\\zeta_{X^\\alpha}=\\frac{\\zeta_{X}}{\\alpha}%\\label{eq:PLpower}\n",
    "$$\n",
    "\n",
    "(b) $$\n",
    "\\zeta_{\\alpha\\,X}=\\zeta_{X}\n",
    "%\\label{eq:PLprod}\n",
    "$$\n",
    "\n"
   ]
  },
  {
   "cell_type": "markdown",
   "metadata": {},
   "source": [
    "\n",
    "The following code snippet loads the data required for this homework assignment."
   ]
  },
  {
   "cell_type": "code",
   "execution_count": 1,
   "metadata": {
    "collapsed": true
   },
   "outputs": [],
   "source": [
    "download.file(url=\"http://mfe.baruch.cuny.edu/wp-content/uploads/2015/08/9875HW1.zip\", destfile=\"9875HW1.zip\")\n",
    "unzip(zipfile=\"9875HW1.zip\")"
   ]
  },
  {
   "cell_type": "markdown",
   "metadata": {},
   "source": [
    "#### 2. (8 points)\n",
    "\n",
    "(a) Convert the file `SSRN.csv` (which contains paper download numbers and ranks) to a data frame.\n",
    "\n",
    "(b) Draw a log-log plot of number of paper downloads ($y$) vs download rank ($x$).\n",
    "\n",
    "(c) Regress $y$ vs $x$ and superimpose the resulting fit on your plot from part (b).\n",
    "\n",
    "(d) Write down the empirical power-law you have found in the form\n",
    "\n",
    "$$\n",
    "y = C x^\\alpha.\n",
    "$$"
   ]
  },
  {
   "cell_type": "markdown",
   "metadata": {},
   "source": [
    "#### 3. (8 points)\n",
    "\n",
    "Repeat all four parts of question 2. for the dataset `Cities.csv`."
   ]
  },
  {
   "cell_type": "markdown",
   "metadata": {},
   "source": [
    "#### 4. (12 points.)\n",
    "\n",
    "(a) Assuming that SPX daily returns are Student-t distributed with $\\nu=3$, mean $0$ and standard deviation of $1\\%$,  what is the chance of a daily move of more than $10\\%$?  Of more than $20\\%$? How many years should we expect to wait to get moves of over $10\\%$ and $20\\%$ respectively? \n",
    "\n",
    "(b) Repeat the same computation assuming SPX daily returns are normally distributed.  Include in your answer all steps in your computation.\n",
    "\n",
    "Recall that the SPX dropped $23\\%$ on October 19, 1987.  \n",
    "   \n",
    "(c) Should this one-day move have been unexpected?  \n",
    "\n",
    "(d) How many years would we expect to wait to get a move of this magnitude assuming SPX returns are normally distributed?  \n",
    "\n",
    "(e) Compare your answer with the life of the universe so far (around 13.7 billion years)."
   ]
  },
  {
   "cell_type": "markdown",
   "metadata": {},
   "source": [
    "## Stylized facts"
   ]
  },
  {
   "cell_type": "markdown",
   "metadata": {},
   "source": [
    "#### 5.  (0 points)\n",
    "Run my R-code in `9875Lecture1-2015.ipynb` and try to understand how it works."
   ]
  },
  {
   "cell_type": "markdown",
   "metadata": {},
   "source": [
    "#### 6. (6 points) \n",
    "\n",
    "The code snippet below loads the data file `spxVix.rData`.  \n",
    "\n",
    "(a) Write R-code to compute \n",
    "   - The average log-return conditional on the log-return being non-negative.\n",
    "   - The average log-return conditional on the log-return being negative.\n",
    "\n",
    "(b) What proportion of all moves are up-moves? Down-moves?  \n",
    "   \n",
    "(c) Relate your findings to one of the Rama Cont stylized facts.\n"
   ]
  },
  {
   "cell_type": "code",
   "execution_count": 2,
   "metadata": {
    "collapsed": false
   },
   "outputs": [],
   "source": [
    "load(\"spxVix.rData\")"
   ]
  },
  {
   "cell_type": "markdown",
   "metadata": {},
   "source": [
    "#### 7. (8 points) \n",
    "\n",
    "DAX is a German stock index analogous to the SPX index.  VDAX is the volatility index (VIX) of DAX.\n",
    "\n",
    "(a) Using the lecture code as a template, use the `quantmod` package to download time series of DAX and VDAX.\n",
    "\n",
    "(b) Regress VDAX log returns vs DAX log returns. What is the $R^2$ of this regression? What is the correlation? \n",
    "\n",
    "(c) Draw a scatter plot of VDAX log returns vs DAX log returns. Superimpose your linear fit from part (b) to make a diagram exactly like Figure 12 of Lecture 1."
   ]
  },
  {
   "cell_type": "code",
   "execution_count": null,
   "metadata": {
    "collapsed": true
   },
   "outputs": [],
   "source": []
  }
 ],
 "metadata": {
  "kernelspec": {
   "display_name": "R",
   "language": "",
   "name": "ir"
  },
  "language_info": {
   "codemirror_mode": "r",
   "file_extension": ".r",
   "mimetype": "text/x-r-source",
   "name": "R",
   "pygments_lexer": "r",
   "version": "3.1.3"
  }
 },
 "nbformat": 4,
 "nbformat_minor": 0
}
